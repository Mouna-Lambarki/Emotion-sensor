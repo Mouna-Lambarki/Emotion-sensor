{
  "nbformat": 4,
  "nbformat_minor": 0,
  "metadata": {
    "colab": {
      "provenance": [],
      "include_colab_link": true
    },
    "kernelspec": {
      "name": "python3",
      "display_name": "Python 3"
    },
    "language_info": {
      "name": "python"
    }
  },
  "cells": [
    {
      "cell_type": "markdown",
      "metadata": {
        "id": "view-in-github",
        "colab_type": "text"
      },
      "source": [
        "<a href=\"https://colab.research.google.com/github/Mouna-Lambarki/Emotion-sensor/blob/main/Project.ipynb\" target=\"_parent\"><img src=\"https://colab.research.google.com/assets/colab-badge.svg\" alt=\"Open In Colab\"/></a>"
      ]
    },
    {
      "cell_type": "code",
      "source": [
        "# Load libraries\n",
        "import cv2\n",
        "from deepface import DeepFace\n",
        "from google.colab.patches import cv2_imshow\n",
        "\n",
        "# Load image\n",
        "original_image = cv2.imread('----------')\n",
        "img = cv2.imread('-------')\n",
        "\n",
        "\n",
        "# Analyze emotions\n",
        "result = DeepFace.analyze(img, actions=['emotion'], enforce_detection = False)\n",
        "\n",
        "# Draw boxes and emotions\n",
        "for face in result:\n",
        "    x, y, w, h = face['region']['x'], face['region']['y'], face['region']['w'], face['region']['h']\n",
        "    emotion = face['dominant_emotion']\n",
        "\n",
        "    cv2.rectangle(img, (x, y), (x + w, y + h), (0, 255, 0), 2)\n",
        "    cv2.putText(img, emotion, (x, y - 10), cv2.FONT_HERSHEY_SIMPLEX, 0.8, (36,255,12), 2)\n",
        "\n",
        "# Show image\n",
        "cv2_imshow(original_image)\n",
        "cv2_imshow(img)\n"
      ],
      "metadata": {
        "id": "5AlgdlMrsUwJ",
        "collapsed": true
      },
      "execution_count": null,
      "outputs": []
    }
  ]
}